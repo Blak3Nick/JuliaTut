{
 "cells": [
  {
   "cell_type": "code",
   "execution_count": 5,
   "metadata": {},
   "outputs": [
    {
     "data": {
      "text/plain": [
       "\"prog.csv\""
      ]
     },
     "execution_count": 5,
     "metadata": {},
     "output_type": "execute_result"
    }
   ],
   "source": [
    "P = download(\"https://raw.githubusercontent.com/nassarhuda/easy_data/master/programming_languages.csv\", \"prog.csv\") "
   ]
  },
  {
   "cell_type": "code",
   "execution_count": 6,
   "metadata": {},
   "outputs": [
    {
     "data": {
      "text/plain": [
       "(Any[1951 \"Regional Assembly Language\"; 1952 \"Autocode\"; … ; 2012 \"Julia\"; 2014 \"Swift\"], AbstractString[\"year\" \"language\"])"
      ]
     },
     "execution_count": 6,
     "metadata": {},
     "output_type": "execute_result"
    }
   ],
   "source": [
    "P,H = readcsv(\"prog.csv\", header=true)"
   ]
  },
  {
   "cell_type": "code",
   "execution_count": 7,
   "metadata": {},
   "outputs": [
    {
     "data": {
      "text/plain": [
       "73×2 Array{Any,2}:\n",
       " 1951  \"Regional Assembly Language\"\n",
       " 1952  \"Autocode\"                  \n",
       " 1954  \"IPL\"                       \n",
       " 1955  \"FLOW-MATIC\"                \n",
       " 1957  \"FORTRAN\"                   \n",
       " 1957  \"COMTRAN\"                   \n",
       " 1958  \"LISP\"                      \n",
       " 1958  \"ALGOL 58\"                  \n",
       " 1959  \"FACT\"                      \n",
       " 1959  \"COBOL\"                     \n",
       " 1959  \"RPG\"                       \n",
       " 1962  \"APL\"                       \n",
       " 1962  \"Simula\"                    \n",
       "    ⋮                              \n",
       " 2003  \"Scala\"                     \n",
       " 2005  \"F\"                         \n",
       " 2006  \"PowerShell\"                \n",
       " 2007  \"Clojure\"                   \n",
       " 2009  \"Go\"                        \n",
       " 2010  \"Rust\"                      \n",
       " 2011  \"Dart\"                      \n",
       " 2011  \"Kotlin\"                    \n",
       " 2011  \"Red\"                       \n",
       " 2011  \"Elixir\"                    \n",
       " 2012  \"Julia\"                     \n",
       " 2014  \"Swift\"                     "
      ]
     },
     "execution_count": 7,
     "metadata": {},
     "output_type": "execute_result"
    }
   ],
   "source": [
    "P"
   ]
  },
  {
   "cell_type": "code",
   "execution_count": 15,
   "metadata": {},
   "outputs": [
    {
     "data": {
      "text/plain": [
       "lang_created_year (generic function with 1 method)"
      ]
     },
     "execution_count": 15,
     "metadata": {},
     "output_type": "execute_result"
    }
   ],
   "source": [
    "function lang_created_year(P, language::String)\n",
    "    loc = findfirst(P[:,2].==language)\n",
    "    return P[loc,1]\n",
    "end"
   ]
  },
  {
   "cell_type": "code",
   "execution_count": 17,
   "metadata": {},
   "outputs": [
    {
     "data": {
      "text/plain": [
       "2012"
      ]
     },
     "execution_count": 17,
     "metadata": {},
     "output_type": "execute_result"
    }
   ],
   "source": [
    "lang_created_year(P,\"Julia\")"
   ]
  },
  {
   "cell_type": "code",
   "execution_count": null,
   "metadata": {},
   "outputs": [],
   "source": []
  }
 ],
 "metadata": {
  "kernelspec": {
   "display_name": "Julia 0.6.4",
   "language": "julia",
   "name": "julia-0.6"
  },
  "language_info": {
   "file_extension": ".jl",
   "mimetype": "application/julia",
   "name": "julia",
   "version": "0.6.4"
  }
 },
 "nbformat": 4,
 "nbformat_minor": 2
}
